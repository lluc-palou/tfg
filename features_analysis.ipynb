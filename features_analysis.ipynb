{
 "cells": [
  {
   "cell_type": "code",
   "execution_count": 1,
   "id": "ccb02479",
   "metadata": {},
   "outputs": [],
   "source": [
    "from pyspark.sql import SparkSession, DataFrame"
   ]
  },
  {
   "cell_type": "code",
   "execution_count": 2,
   "id": "821b87cb",
   "metadata": {},
   "outputs": [],
   "source": [
    "# Initializes Spark session with MongoDB connector\n",
    "jar_files_path = \"file:///C:/Users/llucp/spark_jars/\"\n",
    "\n",
    "jar_files = [\n",
    "    \"mongo-spark-connector_2.12-10.1.1.jar\",\n",
    "    \"mongodb-driver-core-4.10.1.jar\",\n",
    "    \"mongodb-driver-sync-4.10.1.jar\",\n",
    "    \"bson-4.10.1.jar\"\n",
    "]\n",
    "\n",
    "MONGO_URI = \"mongodb://localhost:27017/\"\n",
    "DB_NAME = \"tfg\"\n",
    "FORMATTING_TRADE = \"formatting_trade\"\n",
    "FORMATTING_LOB = \"formatting_lob\"\n",
    "EXPLOITATION = \"exploitation\"\n",
    "\n",
    "spark = (\n",
    "    SparkSession.builder\n",
    "    .appName(\"FormattedZone\")\n",
    "    .config(\"spark.jars\", \",\".join([jar_files_path + jar for jar in jar_files]))\n",
    "    .config(\"spark.mongodb.read.connection.uri\", MONGO_URI)\n",
    "    .config(\"spark.mongodb.write.connection.uri\", MONGO_URI)\n",
    "    .config(\"spark.mongodb.read.database\", DB_NAME)\n",
    "    .config(\"spark.mongodb.write.database\", DB_NAME)\n",
    "    .config(\"spark.driver.memory\", \"4g\")\n",
    "    .getOrCreate()\n",
    ")\n",
    "\n",
    "spark.sparkContext.setLogLevel(\"ERROR\")"
   ]
  },
  {
   "cell_type": "code",
   "execution_count": 3,
   "id": "a973415f",
   "metadata": {},
   "outputs": [],
   "source": [
    "import matplotlib.pyplot as plt\n",
    "import statsmodels.api as sm\n",
    "from scipy import stats\n",
    "import seaborn as sns\n",
    "import pandas as pd\n",
    "import numpy as np\n",
    "import re"
   ]
  },
  {
   "cell_type": "code",
   "execution_count": 4,
   "id": "9b57a92b",
   "metadata": {},
   "outputs": [],
   "source": [
    "def load_lob() -> DataFrame:\n",
    "    \"\"\"\n",
    "    Loads Landing Zone LOB data and returns it as a dataframe.\n",
    "    \"\"\"\n",
    "    lob = (\n",
    "        spark.read.format(\"mongodb\")\n",
    "        .option(\"database\", DB_NAME)\n",
    "        .option(\"collection\", FORMATTING_LOB)\n",
    "        .load()\n",
    "    )\n",
    "\n",
    "    return lob"
   ]
  },
  {
   "cell_type": "code",
   "execution_count": 5,
   "id": "46953f8a",
   "metadata": {},
   "outputs": [
    {
     "name": "stdout",
     "output_type": "stream",
     "text": [
      "['_id', 'asks', 'bids', 'depth_all', 'depth_imbalance_all', 'liquidity_concentration_all', 'liquidity_spread_all', 'lob_slope_all', 'log_return', 'microprice', 'mid_price', 'midprice_vol', 'ofi_all', 'price_impact_proxy_all', 'spread', 'timestamp', 'variance_proxy']\n"
     ]
    }
   ],
   "source": [
    "lob = load_lob()\n",
    "print(lob.columns)"
   ]
  },
  {
   "cell_type": "code",
   "execution_count": 6,
   "id": "5c207453",
   "metadata": {},
   "outputs": [
    {
     "data": {
      "application/vnd.microsoft.datawrangler.viewer.v0+json": {
       "columns": [
        {
         "name": "index",
         "rawType": "int64",
         "type": "integer"
        },
        {
         "name": "depth_all",
         "rawType": "float64",
         "type": "float"
        },
        {
         "name": "depth_imbalance_all",
         "rawType": "float64",
         "type": "float"
        },
        {
         "name": "liquidity_concentration_all",
         "rawType": "float64",
         "type": "float"
        },
        {
         "name": "liquidity_spread_all",
         "rawType": "float64",
         "type": "float"
        },
        {
         "name": "lob_slope_all",
         "rawType": "float64",
         "type": "float"
        },
        {
         "name": "microprice",
         "rawType": "float64",
         "type": "float"
        },
        {
         "name": "mid_price",
         "rawType": "float64",
         "type": "float"
        },
        {
         "name": "midprice_vol",
         "rawType": "float64",
         "type": "float"
        },
        {
         "name": "ofi_all",
         "rawType": "float64",
         "type": "float"
        },
        {
         "name": "price_impact_proxy_all",
         "rawType": "float64",
         "type": "float"
        },
        {
         "name": "spread",
         "rawType": "float64",
         "type": "float"
        },
        {
         "name": "variance_proxy",
         "rawType": "float64",
         "type": "float"
        }
       ],
       "ref": "951c7d02-3018-4d64-af30-86f49f85f3f9",
       "rows": [
        [
         "0",
         "257547100.0",
         "0.18067801967096503",
         "1.0",
         "15883.079263174366",
         "0.15356888576684982",
         "109574.58981077147",
         "109574.55",
         "0.0001915992886289135",
         "-257209100.0",
         "0.012428909119924083",
         "0.10000000000582077",
         "3.6710287403105704e-08"
        ],
        [
         "1",
         "257436600.0",
         "0.17491685331456366",
         "1.0",
         "15877.665865649675",
         "27.039736343999135",
         "109545.402314063",
         "109545.45",
         "0.0002185158720032016",
         "146482000.0",
         "0.012434244004154809",
         "0.10000000000582077",
         "4.774918631731958e-08"
        ],
        [
         "2",
         "258128000.0",
         "0.18025088328271247",
         "1.0",
         "16011.436708409954",
         "0.4714753233792285",
         "109584.07400487408",
         "109584.05",
         "0.0001978845845709289",
         "-29303900.0",
         "0.012400938681584331",
         "0.10000000000582077",
         "3.915830881080912e-08"
        ],
        [
         "3",
         "255477800.0",
         "0.1799279624296123",
         "1.0",
         "15885.51155317838",
         "7.261002429973464",
         "109619.30451339915",
         "109619.35",
         "0.00018639863458914978",
         "256500900.0",
         "0.012529579869562052",
         "0.09999999999126885",
         "3.4744450976699386e-08"
        ],
        [
         "4",
         "257448700.0",
         "0.17903489122298927",
         "1.0",
         "15704.559336236436",
         "0.1562962937412559",
         "109660.494",
         "109660.45",
         "0.00018864982076131453",
         "-257462500.0",
         "0.012433659598980303",
         "0.10000000000582077",
         "3.55887548732761e-08"
        ]
       ],
       "shape": {
        "columns": 12,
        "rows": 5
       }
      },
      "text/html": [
       "<div>\n",
       "<style scoped>\n",
       "    .dataframe tbody tr th:only-of-type {\n",
       "        vertical-align: middle;\n",
       "    }\n",
       "\n",
       "    .dataframe tbody tr th {\n",
       "        vertical-align: top;\n",
       "    }\n",
       "\n",
       "    .dataframe thead th {\n",
       "        text-align: right;\n",
       "    }\n",
       "</style>\n",
       "<table border=\"1\" class=\"dataframe\">\n",
       "  <thead>\n",
       "    <tr style=\"text-align: right;\">\n",
       "      <th></th>\n",
       "      <th>depth_all</th>\n",
       "      <th>depth_imbalance_all</th>\n",
       "      <th>liquidity_concentration_all</th>\n",
       "      <th>liquidity_spread_all</th>\n",
       "      <th>lob_slope_all</th>\n",
       "      <th>microprice</th>\n",
       "      <th>mid_price</th>\n",
       "      <th>midprice_vol</th>\n",
       "      <th>ofi_all</th>\n",
       "      <th>price_impact_proxy_all</th>\n",
       "      <th>spread</th>\n",
       "      <th>variance_proxy</th>\n",
       "    </tr>\n",
       "  </thead>\n",
       "  <tbody>\n",
       "    <tr>\n",
       "      <th>0</th>\n",
       "      <td>257547100.0</td>\n",
       "      <td>0.180678</td>\n",
       "      <td>1.0</td>\n",
       "      <td>15883.079263</td>\n",
       "      <td>0.153569</td>\n",
       "      <td>109574.589811</td>\n",
       "      <td>109574.55</td>\n",
       "      <td>0.000192</td>\n",
       "      <td>-257209100.0</td>\n",
       "      <td>0.012429</td>\n",
       "      <td>0.1</td>\n",
       "      <td>3.671029e-08</td>\n",
       "    </tr>\n",
       "    <tr>\n",
       "      <th>1</th>\n",
       "      <td>257436600.0</td>\n",
       "      <td>0.174917</td>\n",
       "      <td>1.0</td>\n",
       "      <td>15877.665866</td>\n",
       "      <td>27.039736</td>\n",
       "      <td>109545.402314</td>\n",
       "      <td>109545.45</td>\n",
       "      <td>0.000219</td>\n",
       "      <td>146482000.0</td>\n",
       "      <td>0.012434</td>\n",
       "      <td>0.1</td>\n",
       "      <td>4.774919e-08</td>\n",
       "    </tr>\n",
       "    <tr>\n",
       "      <th>2</th>\n",
       "      <td>258128000.0</td>\n",
       "      <td>0.180251</td>\n",
       "      <td>1.0</td>\n",
       "      <td>16011.436708</td>\n",
       "      <td>0.471475</td>\n",
       "      <td>109584.074005</td>\n",
       "      <td>109584.05</td>\n",
       "      <td>0.000198</td>\n",
       "      <td>-29303900.0</td>\n",
       "      <td>0.012401</td>\n",
       "      <td>0.1</td>\n",
       "      <td>3.915831e-08</td>\n",
       "    </tr>\n",
       "    <tr>\n",
       "      <th>3</th>\n",
       "      <td>255477800.0</td>\n",
       "      <td>0.179928</td>\n",
       "      <td>1.0</td>\n",
       "      <td>15885.511553</td>\n",
       "      <td>7.261002</td>\n",
       "      <td>109619.304513</td>\n",
       "      <td>109619.35</td>\n",
       "      <td>0.000186</td>\n",
       "      <td>256500900.0</td>\n",
       "      <td>0.012530</td>\n",
       "      <td>0.1</td>\n",
       "      <td>3.474445e-08</td>\n",
       "    </tr>\n",
       "    <tr>\n",
       "      <th>4</th>\n",
       "      <td>257448700.0</td>\n",
       "      <td>0.179035</td>\n",
       "      <td>1.0</td>\n",
       "      <td>15704.559336</td>\n",
       "      <td>0.156296</td>\n",
       "      <td>109660.494000</td>\n",
       "      <td>109660.45</td>\n",
       "      <td>0.000189</td>\n",
       "      <td>-257462500.0</td>\n",
       "      <td>0.012434</td>\n",
       "      <td>0.1</td>\n",
       "      <td>3.558875e-08</td>\n",
       "    </tr>\n",
       "  </tbody>\n",
       "</table>\n",
       "</div>"
      ],
      "text/plain": [
       "     depth_all  depth_imbalance_all  liquidity_concentration_all  \\\n",
       "0  257547100.0             0.180678                          1.0   \n",
       "1  257436600.0             0.174917                          1.0   \n",
       "2  258128000.0             0.180251                          1.0   \n",
       "3  255477800.0             0.179928                          1.0   \n",
       "4  257448700.0             0.179035                          1.0   \n",
       "\n",
       "   liquidity_spread_all  lob_slope_all     microprice  mid_price  \\\n",
       "0          15883.079263       0.153569  109574.589811  109574.55   \n",
       "1          15877.665866      27.039736  109545.402314  109545.45   \n",
       "2          16011.436708       0.471475  109584.074005  109584.05   \n",
       "3          15885.511553       7.261002  109619.304513  109619.35   \n",
       "4          15704.559336       0.156296  109660.494000  109660.45   \n",
       "\n",
       "   midprice_vol      ofi_all  price_impact_proxy_all  spread  variance_proxy  \n",
       "0      0.000192 -257209100.0                0.012429     0.1    3.671029e-08  \n",
       "1      0.000219  146482000.0                0.012434     0.1    4.774919e-08  \n",
       "2      0.000198  -29303900.0                0.012401     0.1    3.915831e-08  \n",
       "3      0.000186  256500900.0                0.012530     0.1    3.474445e-08  \n",
       "4      0.000189 -257462500.0                0.012434     0.1    3.558875e-08  "
      ]
     },
     "execution_count": 6,
     "metadata": {},
     "output_type": "execute_result"
    }
   ],
   "source": [
    "cols = ['depth_all', 'depth_imbalance_all', 'liquidity_concentration_all', 'liquidity_spread_all', 'lob_slope_all', 'microprice', 'mid_price', 'midprice_vol', 'ofi_all', 'price_impact_proxy_all', 'spread', 'variance_proxy']\n",
    "df = lob.select(cols).dropna().toPandas()\n",
    "df.head()"
   ]
  }
 ],
 "metadata": {
  "kernelspec": {
   "display_name": "tfg",
   "language": "python",
   "name": "python3"
  },
  "language_info": {
   "codemirror_mode": {
    "name": "ipython",
    "version": 3
   },
   "file_extension": ".py",
   "mimetype": "text/x-python",
   "name": "python",
   "nbconvert_exporter": "python",
   "pygments_lexer": "ipython3",
   "version": "3.9.23"
  }
 },
 "nbformat": 4,
 "nbformat_minor": 5
}
